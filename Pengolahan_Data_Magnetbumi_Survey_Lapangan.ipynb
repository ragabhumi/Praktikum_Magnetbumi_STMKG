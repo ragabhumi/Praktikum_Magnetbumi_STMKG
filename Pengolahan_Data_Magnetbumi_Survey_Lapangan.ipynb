{
  "nbformat": 4,
  "nbformat_minor": 0,
  "metadata": {
    "colab": {
      "provenance": [],
      "authorship_tag": "ABX9TyO+Vw9fOLsCO4DqxsqurUbL",
      "include_colab_link": true
    },
    "kernelspec": {
      "name": "python3",
      "display_name": "Python 3"
    },
    "language_info": {
      "name": "python"
    }
  },
  "cells": [
    {
      "cell_type": "markdown",
      "metadata": {
        "id": "view-in-github",
        "colab_type": "text"
      },
      "source": [
        "<a href=\"https://colab.research.google.com/github/ragabhumi/Praktikum_Magnetbumi_STMKG/blob/main/Pengolahan_Data_Magnetbumi_Survey_Lapangan.ipynb\" target=\"_parent\"><img src=\"https://colab.research.google.com/assets/colab-badge.svg\" alt=\"Open In Colab\"/></a>"
      ]
    },
    {
      "cell_type": "markdown",
      "source": [
        "**PENGOLAHAN DATA MAGNET BUMI - 2024**\n",
        "\n",
        "**Pengolahan Data Magnet Bumi menggunakan Data Survey**\n",
        "\n",
        "oleh: Yosi Setiawan\n",
        "\n",
        "Tangerang Selatan, 28 April 2024"
      ],
      "metadata": {
        "id": "luHqmSv_UwT6"
      }
    },
    {
      "cell_type": "markdown",
      "source": [
        "Pada praktik pengolahan data magnet bumi ini, software yang digunakan adalah Fatiando a Terra (Uieda et.al., 2013) untuk analisis data magnet bumi, dan PyGMT (Uieda et.al., 2023) untuk visualisasi yang keduanya berbasis Python. Pengolahan dilakukan di Google Colab untuk memudahkan akses terhadap program dan data yang digunakan tanpa harus menginstall di komputer atau laptop masing-masing peserta.\n",
        "\n",
        "Pada bagian ini, data yang akan digunakan adalah **data hasil survey magnet bumi** di wilayah Pelabuhanratu pada tahun 2022."
      ],
      "metadata": {
        "id": "C4lzndasJNLa"
      }
    },
    {
      "cell_type": "markdown",
      "source": [
        "Langkah pertama yang harus dilakukan adalah menginstal CondaColab di Google Colab di akun Google masing-masing. Tekan tombol **Run cell** di sebelah kiri setiap cell atau tekan tombol Ctrl+Enter. Tunggu hingga proses instalasi selesai. Jika muncul notifikasi **Your session crashed for an unknown reason.**, abaikan dan tutup notifikasi tersebut."
      ],
      "metadata": {
        "id": "sWl9Bk_eUhxf"
      }
    },
    {
      "cell_type": "code",
      "source": [
        "!pip install -q condacolab\n",
        "import condacolab\n",
        "condacolab.install()"
      ],
      "metadata": {
        "id": "kxl53z5IUrJF"
      },
      "execution_count": null,
      "outputs": []
    },
    {
      "cell_type": "markdown",
      "source": [
        "Selanjutnya, cek apakah instalasi CondaColab telah berhasil. Pastikan hasil yang muncul adalah **Everything looks OK!**."
      ],
      "metadata": {
        "id": "uKXiIsbyVNpH"
      }
    },
    {
      "cell_type": "code",
      "source": [
        "import condacolab\n",
        "condacolab.check()"
      ],
      "metadata": {
        "id": "uLxXWx_6VWjb"
      },
      "execution_count": null,
      "outputs": []
    },
    {
      "cell_type": "markdown",
      "source": [
        "Langkah berikutnya adalah menginstal modul-modul Python yang diperlukan. Proses ini memerlukan waktu yang agak lama. Tunggulah hingga proses selesai."
      ],
      "metadata": {
        "id": "qTrcsRJQVaSs"
      }
    },
    {
      "cell_type": "code",
      "source": [
        "!mamba install verde harmonica boule pooch pygmt pandas xarray pyigrf xrft rioxarray ensaio pyproj"
      ],
      "metadata": {
        "id": "q_JnP7qLVdii"
      },
      "execution_count": null,
      "outputs": []
    },
    {
      "cell_type": "markdown",
      "source": [
        "Import modul-modul Python yang akan digunakan\n"
      ],
      "metadata": {
        "id": "M1a6ZE0HaTO9"
      }
    },
    {
      "cell_type": "code",
      "source": [
        "# The standard Python science stack\n",
        "import numpy as np\n",
        "import pandas as pd\n",
        "import xarray as xr\n",
        "import rioxarray as rxr\n",
        "import xrft\n",
        "import datetime\n",
        "from scipy import signal\n",
        "\n",
        "# For IGRF correction\n",
        "import pyIGRF\n",
        "\n",
        "# For projections (wrapped for Proj)\n",
        "import pyproj\n",
        "\n",
        "# Plotting maps using GMT\n",
        "import pygmt\n",
        "\n",
        "# The Fatiando stack\n",
        "import pooch\n",
        "import verde as vd\n",
        "import boule as bl\n",
        "import harmonica as hm"
      ],
      "metadata": {
        "id": "Y-K9StAEaVcj"
      },
      "execution_count": 3,
      "outputs": []
    },
    {
      "cell_type": "markdown",
      "source": [
        "Data survey magnet bumi yang akan digunakan dalam pelatihan ini telah diupload di Github. Untuk mengunduhnya kita gunakan modul Pooch."
      ],
      "metadata": {
        "id": "Zq8FJo9gabyt"
      }
    },
    {
      "cell_type": "code",
      "source": [
        "url_mag = 'https://raw.githubusercontent.com/ragabhumi/Praktikum_Magnetbumi_STMKG/main/data/data_survey.txt'\n",
        "sha='sha256:98082e487f642b0ed36e1a4fd1bacff1cf53905154b93811a910b3f1cc05715e'\n",
        "path_mag = pooch.retrieve(url_mag, known_hash=sha)\n",
        "print(path_mag)"
      ],
      "metadata": {
        "id": "X8_9Jb-EafQ-"
      },
      "execution_count": null,
      "outputs": []
    },
    {
      "cell_type": "markdown",
      "source": [
        "Data survey yang telah didownload formatnya adalah txt dan harus diparsing atau ditentukan identitas tiap kolomnya. Khusus untuk kolom yang menunjukkan waktu, ditambahkan perintah agar kolom tersebut terbaca sebagai variabel datetime."
      ],
      "metadata": {
        "id": "jGU1rRrgO5yl"
      }
    },
    {
      "cell_type": "code",
      "source": [
        "data = pd.read_csv(path_mag, sep='\\t')\n",
        "data['Waktu1'] = pd.to_datetime(data['Waktu1'], format='%Y-%m-%d %H:%M:%S')\n",
        "data['Waktu2'] = pd.to_datetime(data['Waktu2'], format='%Y-%m-%d %H:%M:%S')\n",
        "data['Waktu3'] = pd.to_datetime(data['Waktu3'], format='%Y-%m-%d %H:%M:%S')\n",
        "\n",
        "data"
      ],
      "metadata": {
        "id": "9GX0rVFLc0_o"
      },
      "execution_count": null,
      "outputs": []
    },
    {
      "cell_type": "markdown",
      "source": [
        "Karena data di tiap titik survey masing-masing dilakukan sebanyak tiga kali pembacaan, kita hitung rata-rata waktu dan rata-rata nilai pembacaan proton dari ketiga pembacaan tersebut."
      ],
      "metadata": {
        "id": "3pG8V6hbdazG"
      }
    },
    {
      "cell_type": "code",
      "source": [
        "data['Waktu_rata'] = data.loc[:, ['Waktu1', 'Waktu2', 'Waktu3']].mean(axis=1).dt.strftime('%Y-%m-%d %H:%M:%S')\n",
        "data['F_rata'] = data.loc[:, ['F1', 'F2', 'F3']].mean(axis=1).map('{:.2f}'.format)\n",
        "data"
      ],
      "metadata": {
        "id": "fkBCT2rWdgEW"
      },
      "execution_count": null,
      "outputs": []
    },
    {
      "cell_type": "markdown",
      "source": [
        "Untuk menampilkan titik-titik lokasi survey, kita buat peta menggunakan modul PyGMT. Variabel **region** menunjukkan batas koordinat lokasi dengan urutan kiri, kanan, bawah, dan atas peta."
      ],
      "metadata": {
        "id": "bYrZxh8uW1vb"
      }
    },
    {
      "cell_type": "code",
      "source": [
        "fig = pygmt.Figure()\n",
        "fig.basemap(projection='x1:2000', region=[672480, 672850, 9225140, 9225530], frame=True)\n",
        "fig.plot(x=data['Longitude'], y=data['Latitude'],\n",
        "    style=\"c0.20c\",\n",
        "    fill=\"red\",\n",
        "    pen=\"faint\")\n",
        "fig.show()"
      ],
      "metadata": {
        "id": "w0iI9wQkW6A1"
      },
      "execution_count": null,
      "outputs": []
    },
    {
      "cell_type": "markdown",
      "source": [
        "Selanjutnya, kita import data proton base station yang juga telah diupload di Github. Survey magnet bumi ini dilakukan selama 4 hari, sehingga data proton base station juga sebanyak 4 file."
      ],
      "metadata": {
        "id": "CSagHyCoDZCk"
      }
    },
    {
      "cell_type": "code",
      "source": [
        "# Base station hari 1\n",
        "url_base = 'https://raw.githubusercontent.com/ragabhumi/Praktikum_Magnetbumi_STMKG/main/data/proton_base_20-04-2022.txt'\n",
        "sha ='sha256:bb7f245ef8d0e3f1b9ec0e061cd1413e5b6557508a40d5392960dd014cd1ae7b'\n",
        "base_day1 = pooch.retrieve(url_base, known_hash=sha)\n",
        "print(base_day1)\n",
        "\n",
        "# Base station hari 2\n",
        "url_base = 'https://raw.githubusercontent.com/ragabhumi/Praktikum_Magnetbumi_STMKG/main/data/proton_base_21-04-2022.txt'\n",
        "sha ='sha256:f4af8f4db524bc21494087bbba540141168388e506de4616341ddb6ba53eda61'\n",
        "base_day2 = pooch.retrieve(url_base, known_hash=sha)\n",
        "print(base_day2)\n",
        "\n",
        "# Base station hari 3\n",
        "url_base = 'https://raw.githubusercontent.com/ragabhumi/Praktikum_Magnetbumi_STMKG/main/data/proton_base_22-04-2022.txt'\n",
        "sha ='sha256:6bd280b081841396114c092c5e5004efc7888031e4ba3fa33449f5c7a3c38403'\n",
        "base_day3 = pooch.retrieve(url_base, known_hash=sha)\n",
        "print(base_day3)\n",
        "\n",
        "# Base station hari 4\n",
        "url_base = 'https://raw.githubusercontent.com/ragabhumi/Praktikum_Magnetbumi_STMKG/main/data/proton_base_23-04-2022.txt'\n",
        "sha ='sha256:cb17d1b0a88143a5767eae201288cd46335b890f0be264135e61f4d27cc58ff4'\n",
        "base_day4 = pooch.retrieve(url_base, known_hash=sha)\n",
        "print(base_day4)\n",
        "\n",
        "# Base station hari 5\n",
        "url_base = 'https://raw.githubusercontent.com/ragabhumi/Praktikum_Magnetbumi_STMKG/main/data/proton_base_24-04-2022.txt'\n",
        "sha ='sha256:28421c6869802d7d49fee951c6a082d95e76dbf1a9eaf4a9a7ad139066214796'\n",
        "base_day5 = pooch.retrieve(url_base, known_hash=sha)\n",
        "print(base_day5)"
      ],
      "metadata": {
        "id": "tQRSFOHnN-EG"
      },
      "execution_count": null,
      "outputs": []
    },
    {
      "cell_type": "markdown",
      "source": [
        "Data proton base station yang telah didownload, selanjutnya diparsing menggunakan modul Pandas. Seperti sebelumnya, khusus untuk kolom yang menunjukkan waktu, ditambahkan perintah agar kolom tersebut terbaca sebagai variabel datetime."
      ],
      "metadata": {
        "id": "8-SA3i8dPism"
      }
    },
    {
      "cell_type": "code",
      "source": [
        "base1 = pd.read_csv(base_day1, sep='\\t', names=['Waktu', 'Fbase'])\n",
        "base2 = pd.read_csv(base_day2, sep='\\t', names=['Waktu', 'Fbase'])\n",
        "base3 = pd.read_csv(base_day3, sep='\\t', names=['Waktu', 'Fbase'])\n",
        "base4 = pd.read_csv(base_day4, sep='\\t', names=['Waktu', 'Fbase'])\n",
        "base5 = pd.read_csv(base_day5, sep='\\t', names=['Waktu', 'Fbase'])\n",
        "\n",
        "base1['Waktu'] = pd.to_datetime(base1['Waktu'], format='%Y-%m-%d %H:%M:%S')\n",
        "base2['Waktu'] = pd.to_datetime(base2['Waktu'], format='%Y-%m-%d %H:%M:%S')\n",
        "base3['Waktu'] = pd.to_datetime(base3['Waktu'], format='%Y-%m-%d %H:%M:%S')\n",
        "base4['Waktu'] = pd.to_datetime(base4['Waktu'], format='%Y-%m-%d %H:%M:%S')\n",
        "base5['Waktu'] = pd.to_datetime(base5['Waktu'], format='%Y-%m-%d %H:%M:%S')\n",
        "\n",
        "base1"
      ],
      "metadata": {
        "id": "1FaZNYM-PmCS"
      },
      "execution_count": null,
      "outputs": []
    },
    {
      "cell_type": "markdown",
      "source": [
        "Selanjutnya kita gabungkan data proton base station menjadi satu variabel"
      ],
      "metadata": {
        "id": "Dq_W7eZ9QlSN"
      }
    },
    {
      "cell_type": "code",
      "source": [
        "base = pd.concat([base1, base2, base3, base4, base5]).reset_index(drop=True)\n",
        "base"
      ],
      "metadata": {
        "id": "Kc6dJjCtQpnh"
      },
      "execution_count": null,
      "outputs": []
    },
    {
      "cell_type": "markdown",
      "source": [
        "Tampilkan grafik variasi harian dari data proton base station yang telah digabungkan."
      ],
      "metadata": {
        "id": "3eq-PPmWSPk4"
      }
    },
    {
      "cell_type": "code",
      "source": [
        "fig = pygmt.Figure()\n",
        "# create a basemap with limits of 2022-04-21 to 2022-04-24 on the x axis and\n",
        "# 45200 to 45400 on the y axis\n",
        "fig.basemap(\n",
        "    projection=\"X25c/15c\",\n",
        "    region=[datetime.date(2022, 4, 21), datetime.date(2022, 4, 24), 45200, 45400],\n",
        "    frame=[\"WSen+tGrafik Variasi Harian\", \"af\", \"x+lTime\", \"y+lnT\"],\n",
        ")\n",
        "\n",
        "x = base['Waktu']\n",
        "y = base['Fbase']\n",
        "fig.plot(x=x, y=y, pen=\"1p\")\n",
        "\n",
        "fig.show()"
      ],
      "metadata": {
        "id": "wzFjRPHuStnb"
      },
      "execution_count": null,
      "outputs": []
    },
    {
      "cell_type": "markdown",
      "source": [
        "Terlihat bahwa pada data variasi harian masih terdapat banyak spike. Selanjutnya, kita hilangkan spike-spike tersebut menggunakan median filter."
      ],
      "metadata": {
        "id": "Zo2MzSPweUzJ"
      }
    },
    {
      "cell_type": "code",
      "source": [
        "base['Fbase_filt'] = signal.medfilt(base['Fbase'])"
      ],
      "metadata": {
        "id": "0CDR4iWteYAB"
      },
      "execution_count": 14,
      "outputs": []
    },
    {
      "cell_type": "markdown",
      "source": [
        "Tampilkan grafik variasi harian setelah di filter."
      ],
      "metadata": {
        "id": "04nUdrIieuiJ"
      }
    },
    {
      "cell_type": "code",
      "source": [
        "fig = pygmt.Figure()\n",
        "# create a basemap with limits of 2022-04-21 to 2022-04-24 on the x axis and\n",
        "# 45200 to 45400 on the y axis\n",
        "fig.basemap(\n",
        "    projection=\"X25c/15c\",\n",
        "    region=[datetime.date(2022, 4, 21), datetime.date(2022, 4, 24), 45200, 45400],\n",
        "    frame=[\"WSen+tGrafik Variasi Harian setelah difilter\", \"af\", \"x+lTime\", \"y+lnT\"],\n",
        ")\n",
        "\n",
        "x = base['Waktu']\n",
        "y = base['Fbase_filt']\n",
        "fig.plot(x=x, y=y, pen=\"1p\")\n",
        "\n",
        "fig.show()"
      ],
      "metadata": {
        "id": "zjH4QMYYexUE"
      },
      "execution_count": null,
      "outputs": []
    },
    {
      "cell_type": "markdown",
      "source": [
        "Jika kita perhatikan, interval data proton base station adalah 10 detik, sedangkan hasil pengukuran di titik survey resolusinya 1 detik. Sehingga nilai proton base station harus di up sampling agar menjadi 1 detik."
      ],
      "metadata": {
        "id": "UPJC2rGPf9w2"
      }
    },
    {
      "cell_type": "code",
      "source": [
        "base1s = base.set_index(['Waktu'])\n",
        "base1s = base1s.resample(rule='1S').mean().interpolate(method='linear')\n",
        "base1s"
      ],
      "metadata": {
        "id": "fEkTi0xugkCW"
      },
      "execution_count": null,
      "outputs": []
    },
    {
      "cell_type": "markdown",
      "source": [
        "Setelah data proton hasil survei dan data proton base station selesai disiapkan, kita lakukan pengolahan untuk mendapatkan kontur anomali magnet bumi. Untuk mendapatkan anomali medan magnetik yang menjadi target survei, maka data magnetik yang telah diperoleh harus dibersihkan atau dikoreksi dari pengaruh beberapa medan magnet yang lain. Flowchart dalam pengolahan data magnet bumi adalah sebagai berikut:\n",
        "\n",
        "\n",
        "![flowchart.png](data:image/png;base64,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)"
      ],
      "metadata": {
        "id": "YE5Yu_lkUMEe"
      }
    },
    {
      "cell_type": "markdown",
      "source": [
        "**1. Koreksi Diurnal**\n",
        "\n",
        "Langkah pertama adalah melakukan koreksi variasi harian. Koreksi diurnal (diurnal correction) atau koreksi harian merupakan koreksi untuk menghilangkan efek dari penyimpangan nilai medan magnet bumi akibat adanya perbedaan waktu dan efek radiasi matahari dalam satu hari. Waktu yang dimaksudkan harus mengacu atau sesuai dengan waktu pengukuran data medan magnet di setiap titik lokasi (stasiun pengukuran) yang akan dikoreksi. Koreksi diurnal dapat dituliskan dalam persamaan:\n",
        "\n",
        "ΔH = H TOTAL ± ΔH HARIAN\n",
        "\n",
        "dimana ΔH adalah medan magnet terkoreksi, H TOTAL adalah medan magnet terukur oleh alat, dan ΔH HARIAN adalah nilai koreksi variasi harian."
      ],
      "metadata": {
        "id": "Yqw7YPC4X-5o"
      }
    },
    {
      "cell_type": "markdown",
      "source": [
        "Untuk menghitung nilai variasi diurnal, data proton base station dapat dikurangkan dengan nilai pertamanya."
      ],
      "metadata": {
        "id": "0u_z1htKosIk"
      }
    },
    {
      "cell_type": "code",
      "source": [
        "base1s['VH'] = base1s['Fbase_filt'] - base1s['Fbase_filt'][0]\n",
        "base1s"
      ],
      "metadata": {
        "id": "QuY4OTTMjFa5"
      },
      "execution_count": null,
      "outputs": []
    },
    {
      "cell_type": "markdown",
      "source": [
        "Selanjutnya, untuk melakukan perhitungan koreksi diurnal, jam pengamatan pada proton base station disesuaikan dengan waktu rata-rata pembacaan proton hasil survey."
      ],
      "metadata": {
        "id": "sNGJnm3rpHWC"
      }
    },
    {
      "cell_type": "code",
      "source": [
        "data['VH'] = base1s.loc[data['Waktu_rata']].reset_index()['VH']\n",
        "data"
      ],
      "metadata": {
        "id": "o1c2kBmcpSTP"
      },
      "execution_count": null,
      "outputs": []
    },
    {
      "cell_type": "markdown",
      "source": [
        "**2. Koreksi IGRF**\n",
        "\n",
        "Data hasil pengukuran medan magnet pada dasarnya adalah konstribusi dari tiga komponen dasar, yaitu medan magnet utama bumi, medan magnet eksternal dan medan anomali. Nilai medan magnetik utama tidak lain adalah nilai IGRF (*International Geomagnetic Reference Field*). Jika nilai medan magnet utama dihilangkan dengan koreksi harian, maka kontribusi medan magnetik utama dihilangkan dengan koreksi IGRF. Koreksi IGRF dapat dilakukan dengan cara mengurangkan nilai IGRF terhadap nilai medan magnet total yang telah terkoreksi harian pada setiap titik pengukuran pada posisi geografis yang sesuai. Persamaan koreksinya (setelah dikoreksi harian) dapat dituliskan sebagai berikut :\n",
        "\n",
        "ΔH = H TOTAL ± ΔH HARIAN - H IGRF\n",
        "\n",
        "dimana H IGRF adalah nilai IGRF"
      ],
      "metadata": {
        "id": "jDWwUZgsrLJp"
      }
    },
    {
      "cell_type": "code",
      "source": [
        "def year_fraction(date):\n",
        "    start = datetime.date(date.year, 1, 1).toordinal()\n",
        "    year_length = datetime.date(date.year+1, 1, 1).toordinal() - start\n",
        "    return date.year + float(date.toordinal() - start) / year_length\n",
        "\n",
        "IGRF = []\n",
        "for i in range(len(data)):\n",
        "    myProj = pyproj.Proj(\"+proj=utm +zone=48 +south +ellps=WGS84 +datum=WGS84 +units=m +no_defs\")\n",
        "    lon_,lat_ = myProj(data['Longitude'].iloc[i], data['Latitude'].iloc[i], inverse=True)\n",
        "    date = datetime.datetime.strptime(data['Waktu_rata'].iloc[i], '%Y-%m-%d %H:%M:%S')\n",
        "    t = float('%.2f'%year_fraction(date))\n",
        "\n",
        "    IGRF = IGRF + [pyIGRF.igrf_value(lat_, lon_, 0, t)[-1]]\n",
        "\n",
        "data['IGRF'] = IGRF\n",
        "\n",
        "data"
      ],
      "metadata": {
        "id": "ATyw3HNTtsXU"
      },
      "execution_count": null,
      "outputs": []
    },
    {
      "cell_type": "markdown",
      "source": [
        "Setelah itu, kita dapat menghitung nilai anomali medan magnet totalnya."
      ],
      "metadata": {
        "id": "lyfD5yHnq8Al"
      }
    },
    {
      "cell_type": "code",
      "source": [
        "data['anomali'] = data['F_rata'].astype(float) - data['VH'] - data['IGRF']\n",
        "data"
      ],
      "metadata": {
        "id": "t1qMIYIBq_on"
      },
      "execution_count": null,
      "outputs": []
    },
    {
      "cell_type": "markdown",
      "source": [
        "Untuk membuat peta kontur anomali medan magnet totalnya, data harus kita interpolasi agar membentuk grid. Disini kita gunakan metode Spline untuk interpolasi data."
      ],
      "metadata": {
        "id": "KBKdo5sgteWS"
      }
    },
    {
      "cell_type": "code",
      "source": [
        "spline = vd.Spline()\n",
        "spline.fit((data['Longitude'], data['Latitude']), data['anomali'])\n",
        "grid = spline.grid(region=(672480, 672850, 9225140, 9225530), spacing=1, dims=['northing', 'easting'], data_names='anomali')"
      ],
      "metadata": {
        "id": "1HnERBzc3GyP"
      },
      "execution_count": null,
      "outputs": []
    },
    {
      "cell_type": "markdown",
      "source": [
        "Selanjutnya, kita buat peta kontur anomali medan magnet totalnya."
      ],
      "metadata": {
        "id": "c5fKvMx2vVnf"
      }
    },
    {
      "cell_type": "code",
      "source": [
        "fig = pygmt.Figure()\n",
        "fig.basemap(projection='x1:2000', region=[672480, 672850, 9225140, 9225530], frame=True)\n",
        "scale = 0.25 * vd.maxabs(grid.anomali)\n",
        "pygmt.makecpt(cmap=\"seis+h\", series=[-scale, scale], background=True)\n",
        "fig.grdimage(grid=grid.anomali, cmap=True)\n",
        "fig.grdcontour(grid=grid.anomali, interval=100, annotation=100)\n",
        "fig.colorbar(frame=[\"x+lAnomali Medan Magnet Total (nT) \"], cmap=True)\n",
        "fig.show()"
      ],
      "metadata": {
        "id": "fqpI9NCKvYlQ"
      },
      "execution_count": null,
      "outputs": []
    },
    {
      "cell_type": "markdown",
      "source": [
        "Agar peta terlihat lebih baik, area di luar titik pengukuran kita hilangkan atau di clip. Kita masukkan titik-titik batas area pengukuran."
      ],
      "metadata": {
        "id": "H6zZaLFFNnl0"
      }
    },
    {
      "cell_type": "code",
      "source": [
        "CRS = pyproj.crs.CRS('+proj=utm +zone=48 +south +ellps=WGS84 +datum=WGS84 +units=m +no_defs')\n",
        "\n",
        "geometries = [\n",
        "    {\n",
        "        'type': 'Polygon',\n",
        "        'coordinates': [[\n",
        "            [672613.31, 9225522.86],\n",
        "            [672837.03, 9225294.03],\n",
        "            [672670.00, 9225150.50],\n",
        "            [672633.74, 9225187.78],\n",
        "            [672629.14, 9225248.06],\n",
        "            [672492.76, 9225406.40],\n",
        "            [672613.31, 9225522.86],\n",
        "        ]],\n",
        "    }\n",
        "]\n",
        "\n",
        "\n",
        "# Clipping data anomali total\n",
        "grid.rio.set_spatial_dims(\"easting\", \"northing\", inplace=True)\n",
        "grid.rio.write_crs(CRS, inplace=True)\n",
        "clipped_total = grid.rio.clip(geometries)\n",
        "clipped_total.max(skipna=True)\n",
        "clipped_total"
      ],
      "metadata": {
        "id": "jbs_1-UUNoq9"
      },
      "execution_count": null,
      "outputs": []
    },
    {
      "cell_type": "markdown",
      "source": [
        "Kita tampilkan peta kontur anomali medan magnet total yang sudah di clip"
      ],
      "metadata": {
        "id": "ZmnNfGnafz1X"
      }
    },
    {
      "cell_type": "code",
      "source": [
        "# Menampilkan Peta Anomali Medan Magnet Total\n",
        "fig = pygmt.Figure()\n",
        "fig.basemap(projection='x1:2000', region=[672480, 672850, 9225140, 9225530], frame=[\"WSen+tPeta Anomali Medan Magnet Total\", \"af\"])\n",
        "scale = 0.25 * vd.maxabs(grid.anomali)\n",
        "pygmt.makecpt(cmap=\"seis+h\", series=[-scale, scale], background=True)\n",
        "fig.grdimage(grid=clipped_total.anomali, cmap=True, nan_transparent=True)\n",
        "fig.grdcontour(grid=clipped_total.anomali, interval=100, annotation=100)\n",
        "fig.colorbar(frame=[\"x+lAnomali Total (nT)\"], cmap=True, position=\"JBC+h+o0/1c+e\")\n",
        "fig.show()\n",
        "print(' ')"
      ],
      "metadata": {
        "id": "uedq5k7TiXGU"
      },
      "execution_count": null,
      "outputs": []
    },
    {
      "cell_type": "markdown",
      "source": [
        "**Referensi**\n",
        "\n",
        "\n",
        "\n",
        "> Arifin, Y. I. (2019). Kemagnetan Batuan (Anisotropi Batuan Beku). UNG Press Gorontalo.\n",
        "\n",
        "> Constable, C.G., and Constable, S.C., (2004). Satellite magnetic field measurements: applications in studying the deep earth. In Sparks, R.S.J., and Hawkesworth, C.J., (eds.), The State of the Planet: Frontiers and Challenges in Geophysics. Washington, DC: American Geophysical Union, doi: 10.1029/150GM13, pp. 147–160.\n",
        "\n",
        "> Fenoglio, M. A., Johnston, M.J.S., dan Byerlee, J.D. (1995). Magnetic and Electric Fields Associated with Changes in High Pore Pressure in Fault Zone-Application to the Loma Prieta ULF Emissions, J. Geophys. Res. 100, pp 12951-12958.\n",
        "\n",
        "> Freund, F.T. (2007). Pre-Earthquake Signals-Part I: Deviatoric Stresses Turn Rocks into A Source of Electric Currents, Natural Hazards Earth System Science, pp 535-541.\n",
        "\n",
        "> Hattori, K. (2004). ULF geomagnetic changes associated with large earthquakes, Terr. Atmos. OceanSci., vol. 15,no. 3, pp. 329–360.\n",
        "\n",
        "> Ismaguilov, V. S., Kopytenko, Yu. A., Hattori, K., and Hayakawa, M. (2003). Variations of phase velocity and gradient values of ULF geomagnetic disturbances connected with the Izu strong earthquakes, Nat. Hazards Earth Syst. Sci., 3, 211–215, https://doi.org/10.5194/nhess-3-211-2003.\n",
        "\n",
        "> Kolhatkar, A., Jamison, A., Litvinov, D., Willson, R., & Lee, T. (2013). Tuning the Magnetic Properties of Nanoparticles. International Journal of Molecular Sciences, 14(8), 15977–16009. MDPI AG. Retrieved from http://dx.doi.org/10.3390/ijms14081597\n",
        "\n",
        "> Kopytenko, Y. & Ismagilov, V. & Hayakawa, Masashi & Smirnova, N. & Troyan, V. & Peterson, T.. (2001). Investigation of the ULF electromagnetic phenomena related to earthquakes: Contemporary achievements and the perspectives. Annali di Geofisica. 44. 325-334.\n",
        "\n",
        "> Merzer, M., dan Klemperer, S.L. (1997). Modelling Low-Frequency Magnetik Field Prekursors to the Loma Prieta Earthquake with A Prekursory Increase in Fault Zone Conductivity, Pure Applied Geophysics, Vol. 150, pp 217-248.\n",
        "\n",
        "> Molchanov, O.A., dan Hayakawa, M. (1998). On the Generation Mechanism of ULF Seismogenic Emissions, Physics Earth Planet International, Vol. 105, pp 210-210.\n",
        "\n",
        "> Nettleton, L. L. (1962). Gravity and Magnetics for Geologists and Seismologists. AAPG Bulletin, Vol. 46, No. 10, pp. 1815-1838\n",
        "\n",
        "> Ravat, D. (2007). Reduction to Pole. In: Gubbins, D., Herrero-Bervera, E. (eds) Encyclopedia of Geomagnetism and Paleomagnetism. Springer, Dordrecht. https://doi.org/10.1007/978-1-4020-4423-6_275\n",
        "\n",
        "> Santosa, Bagus J., Mashuri, Sutrisno, Wahyu T., Wafi, A., Salim, R., dan Armi, R. (2012). Interpretasi Metode Magnetik untuk Penentuan Struktur Bawah Permukaan di Sekitar Gunung Kelud Kabupaten Kediri. Jurnal Penelitian Fisika dan Aplikasinya (JPFA), Vol. 2 No. 1, Juni 2012. ISSN: 2087-9946.\n",
        "\n",
        "> Uieda, L., V. C. Oliveira Jr, and V. C. F. Barbosa (2013), Modeling the Earth with Fatiando a Terra, Proceedings of the 12th Python in Science Conference, pp. 91-98. doi:10.25080/Majora-8b375195-010\n",
        "\n",
        "> Uieda, L., Tian, D., Leong, W. J., Schlitzer, W., Grund, M., Jones, M., Fröhlich, Y., Toney, L., Yao, J., Magen, Y., Tong, JH., Materna, K., Belem, A., Newton, T., Anant, A., Ziebarth, M., Quinn, J., and Wessel, P. (2023). PyGMT: A Python interface for the Generic Mapping Tools (Version 0.9.0). doi:10.5281/zenodo.7772533\n",
        "\n"
      ],
      "metadata": {
        "id": "YRrgCZewK1n5"
      }
    }
  ]
}