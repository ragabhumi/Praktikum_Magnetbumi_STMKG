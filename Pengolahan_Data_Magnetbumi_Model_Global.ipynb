{
  "nbformat": 4,
  "nbformat_minor": 0,
  "metadata": {
    "colab": {
      "provenance": [],
      "include_colab_link": true
    },
    "kernelspec": {
      "name": "python3",
      "display_name": "Python 3"
    },
    "language_info": {
      "name": "python"
    }
  },
  "cells": [
    {
      "cell_type": "markdown",
      "metadata": {
        "id": "view-in-github",
        "colab_type": "text"
      },
      "source": [
        "<a href=\"https://colab.research.google.com/github/ragabhumi/Praktikum_Magnetbumi_STMKG/blob/main/Pengolahan_Data_Magnetbumi_Model_Global.ipynb\" target=\"_parent\"><img src=\"https://colab.research.google.com/assets/colab-badge.svg\" alt=\"Open In Colab\"/></a>"
      ]
    },
    {
      "cell_type": "markdown",
      "source": [
        "**PENGOLAHAN DATA MAGNET BUMI - 2024**\n",
        "\n",
        "**Pengolahan Data Magnet Bumi menggunakan Data Model Global**\n",
        "\n",
        "oleh: Yosi Setiawan\n",
        "\n",
        "Tangerang Selatan, 28 April 2024"
      ],
      "metadata": {
        "id": "8bkF248TbZKA"
      }
    },
    {
      "cell_type": "markdown",
      "source": [
        "Pada praktik pengolahan data magnet bumi ini, software yang digunakan adalah Fatiando a Terra (Uieda et.al., 2013) untuk analisis data magnet bumi, dan PyGMT (Uieda et.al., 2023) untuk visualisasi yang keduanya berbasis Python. Pengolahan dilakukan di Google Colab untuk memudahkan akses terhadap program dan data yang digunakan tanpa harus menginstall di komputer atau laptop masing-masing peserta.\n",
        "\n",
        "Pada bagian ini, data yang akan digunakan adalah **data model magnet bumi EMAG2v3**."
      ],
      "metadata": {
        "id": "U2QWzpb0b38O"
      }
    },
    {
      "cell_type": "markdown",
      "source": [
        "Langkah pertama yang harus dilakukan adalah menginstal CondaColab di Google Colab di akun Google masing-masing. Tekan tombol **Run cell** di sebelah kiri setiap cell atau tekan tombol Ctrl+Enter. Tunggu hingga proses instalasi selesai. Jika muncul notifikasi **Your session crashed for an unknown reason.**, abaikan dan tutup notifikasi tersebut."
      ],
      "metadata": {
        "id": "VuoGQ8WEH7q9"
      }
    },
    {
      "cell_type": "code",
      "execution_count": null,
      "metadata": {
        "id": "mnwZW5O6Ef9k"
      },
      "outputs": [],
      "source": [
        "!pip install -q condacolab\n",
        "import condacolab\n",
        "condacolab.install()"
      ]
    },
    {
      "cell_type": "markdown",
      "source": [
        "Selanjutnya, cek apakah instalasi CondaColab telah berhasil. Pastikan hasil yang muncul adalah **Everything looks OK!**."
      ],
      "metadata": {
        "id": "geNq8jt2cE1M"
      }
    },
    {
      "cell_type": "code",
      "source": [
        "import condacolab\n",
        "condacolab.check()"
      ],
      "metadata": {
        "id": "HS7GV_KScFm1"
      },
      "execution_count": null,
      "outputs": []
    },
    {
      "cell_type": "markdown",
      "source": [
        "Langkah berikutnya adalah menginstal modul-modul Python yang diperlukan. Proses ini memerlukan waktu yang agak lama. Tunggulah hingga proses selesai."
      ],
      "metadata": {
        "id": "AXorCsqxcL3f"
      }
    },
    {
      "cell_type": "code",
      "source": [
        "!mamba install verde harmonica boule pooch pygmt pyproj pandas xarray xrft ensaio pyproj rioxarray"
      ],
      "metadata": {
        "id": "Vclditr6cMpl"
      },
      "execution_count": null,
      "outputs": []
    },
    {
      "cell_type": "markdown",
      "source": [
        "Import modul-modul Python yang akan digunakan"
      ],
      "metadata": {
        "id": "NMAIpdyzdd70"
      }
    },
    {
      "cell_type": "code",
      "source": [
        "# The standard Python science stack\n",
        "import numpy as np\n",
        "import pandas as pd\n",
        "import xarray as xr\n",
        "import rioxarray as rxr\n",
        "import xrft\n",
        "import datetime\n",
        "from scipy import signal\n",
        "\n",
        "# For projections (wrapped for Proj)\n",
        "import pyproj\n",
        "\n",
        "# Plotting maps using GMT\n",
        "import pygmt\n",
        "\n",
        "# The Fatiando stack\n",
        "import pooch\n",
        "import verde as vd\n",
        "import boule as bl\n",
        "import harmonica as hm"
      ],
      "metadata": {
        "id": "OtfAvuU2JtmM"
      },
      "execution_count": 3,
      "outputs": []
    },
    {
      "cell_type": "markdown",
      "source": [
        "Data magnet bumi yang akan digunakan dalam pelatihan ini telah diupload di Github. Untuk mengunduhnya kita gunakan modul Pooch. Terdapat 8 file yang tersedia, pilihlah sesuai dengan kelompok anda."
      ],
      "metadata": {
        "id": "zHg6xnV3KF_V"
      }
    },
    {
      "cell_type": "code",
      "source": [
        "url_mag = 'https://raw.githubusercontent.com/ragabhumi/Praktikum_Magnetbumi_STMKG/main/data/EMAG2v3_area1.csv'\n",
        "path_mag = pooch.retrieve(url_mag, known_hash=None)\n",
        "print(path_mag)"
      ],
      "metadata": {
        "id": "IzF5YSy5KIa1"
      },
      "execution_count": null,
      "outputs": []
    },
    {
      "cell_type": "markdown",
      "source": [
        "Selanjutnya, data model magnet bumi dengan format csv kita parsing menggunakan modul Pandas dan diberikan nama untuk setiap kolomnya."
      ],
      "metadata": {
        "id": "4Uti3HhrK90N"
      }
    },
    {
      "cell_type": "code",
      "source": [
        "data = pd.read_csv(path_mag, sep=' ', names=['i', 'j', 'Longitude', 'Latitude', 'Sealevel', 'UpCont', 'Code', 'Error'])\n",
        "data"
      ],
      "metadata": {
        "id": "2hITHCKZLFZC"
      },
      "execution_count": null,
      "outputs": []
    },
    {
      "cell_type": "markdown",
      "source": [
        "Pada data yang kita gunakan, terdapat beberapa titik yang datanya ambigu maupun titik yang tidak ada data. Titik yang datanya ambigu diberikan kode 888 dan nilainya -888 nT, sedangkan titik yang tidak ada data diberikan kode 999 dan nilainya 99999 nT. Sehingga titik-titik tersebut harus kita hilangkan."
      ],
      "metadata": {
        "id": "qxMwESOPQXzY"
      }
    },
    {
      "cell_type": "code",
      "source": [
        "data = data[(data['Code'] != 888) & (data['Code'] != 999)]\n",
        "data"
      ],
      "metadata": {
        "id": "g2AwckVfQ-1p"
      },
      "execution_count": null,
      "outputs": []
    },
    {
      "cell_type": "markdown",
      "source": [
        "Kita tampilkan titik-titik grid model magnet."
      ],
      "metadata": {
        "id": "ZVHsQro0MFNZ"
      }
    },
    {
      "cell_type": "code",
      "source": [
        "# Kita atur batas koordinat sesuai dengan batasan data kita\n",
        "lon_min = data['Longitude'].min()\n",
        "lon_max = data['Longitude'].max()\n",
        "lat_min = data['Latitude'].min()\n",
        "lat_max = data['Latitude'].max()\n",
        "\n",
        "fig = pygmt.Figure()\n",
        "fig.basemap(projection='M20', region=[lon_min, lon_max, lat_min, lat_max], frame=True)\n",
        "fig.coast(resolution='f', shorelines='2p,black,solid')\n",
        "fig.plot(x=data['Longitude'], y=data['Latitude'],\n",
        "    style=\"c0.1c\",\n",
        "    fill=\"red\",\n",
        "    pen=\"faint\")\n",
        "fig.show()"
      ],
      "metadata": {
        "id": "xn5Far45Mf8T"
      },
      "execution_count": null,
      "outputs": []
    },
    {
      "cell_type": "markdown",
      "source": [
        "Menampilkan peta model anomali magnet bumi dalam bentuk kontur. Pertama, kita interpolasikan dahulu data txt menjadi data grid."
      ],
      "metadata": {
        "id": "2HwRbXw-N9Xg"
      }
    },
    {
      "cell_type": "code",
      "source": [
        "pre_data = pygmt.blockmean(x=data['Longitude'], y=data['Latitude'], z=data['UpCont'], region=[lon_min, lon_max, lat_min, lat_max], spacing='1m')\n",
        "data_grid = pygmt.surface(pre_data, region=[lon_min, lon_max, lat_min, lat_max], spacing='1m')\n",
        "data_grid"
      ],
      "metadata": {
        "id": "trW4uBj3OD4e"
      },
      "execution_count": null,
      "outputs": []
    },
    {
      "cell_type": "markdown",
      "source": [
        "Kita tampilkan peta konturnya menggunakan PyGMT."
      ],
      "metadata": {
        "id": "ApxcbAvDOhr2"
      }
    },
    {
      "cell_type": "code",
      "source": [
        "fig = pygmt.Figure()\n",
        "pygmt.makecpt(cmap=\"seis+h\", reverse=True, series=[data_grid.min().values, data_grid.max().values], background=True)\n",
        "fig.basemap(projection='M20', region=[lon_min, lon_max, lat_min, lat_max], frame=True)\n",
        "fig.grdimage(grid=data_grid, cmap=True)\n",
        "fig.coast(resolution='f', shorelines='2p,black,solid')\n",
        "fig.grdcontour(grid=data_grid, interval=50, annotation=50)\n",
        "\n",
        "# Add colorbar\n",
        "fig.colorbar(frame='af+l\"Peta Anomali Medan Magnet (nT)\"', position=\"JBC+h+o0/1c+e\")\n",
        "fig.show()"
      ],
      "metadata": {
        "id": "Xw7--_61OtLm"
      },
      "execution_count": null,
      "outputs": []
    },
    {
      "cell_type": "markdown",
      "source": [
        "**1. Reduksi ke Kutub**\n",
        "\n",
        "Data anomali magnet bumi ini harus kita reduksi ke kutub sebelum dilakukan pemisahan anomali regional dan residual. Namun, proses reduksi ke kutub ini hanya dapat dilakukan pada sistem koordinat kartesian, sehingga data dalam sistem koordinat geografis harus kita proyeksikan ke sistem koordinat kartesian terlebih dahulu."
      ],
      "metadata": {
        "id": "KNFQElwsdgIQ"
      }
    },
    {
      "cell_type": "markdown",
      "source": [
        "Kita definisikan dahulu proyeksinya mengunakan pyproj."
      ],
      "metadata": {
        "id": "HFnbnyCRt01F"
      }
    },
    {
      "cell_type": "code",
      "source": [
        "CRS = pyproj.crs.CRS(proj=\"merc\", lat_ts=data_grid.lat.mean().values)"
      ],
      "metadata": {
        "id": "SZQbOXaZejMQ"
      },
      "execution_count": 10,
      "outputs": []
    },
    {
      "cell_type": "markdown",
      "source": [
        "Selanjutnya, kita konversi data dari sistem koordinat geografis ke sistem koordinat kartesian."
      ],
      "metadata": {
        "id": "_6orzBpxuDw2"
      }
    },
    {
      "cell_type": "code",
      "source": [
        "data_grid.rio.write_crs('+proj=lonlat', inplace=True)\n",
        "utm_grid = data_grid.rio.reproject(CRS)\n",
        "utm_grid = utm_grid.rename({'x':'easting', 'y':'northing'})\n",
        "utm_grid"
      ],
      "metadata": {
        "id": "e0-ydgZDQ3GQ"
      },
      "execution_count": null,
      "outputs": []
    },
    {
      "cell_type": "markdown",
      "source": [
        "Kita lakukan transformasi reduksi ke kutub."
      ],
      "metadata": {
        "id": "aDR5fwTNuGPB"
      }
    },
    {
      "cell_type": "code",
      "source": [
        "# Pad the grid to increase accuracy of the FFT filter\n",
        "pad_width = {\n",
        "    \"easting\": utm_grid.easting.size // 3,\n",
        "    \"northing\": utm_grid.northing.size // 3,\n",
        "}\n",
        "\n",
        "utm_grid_pad = xrft.pad(utm_grid, pad_width)\n",
        "\n",
        "inclination, declination = -30.92, 0.52\n",
        "\n",
        "rtp_grid = hm.reduction_to_pole(\n",
        "    utm_grid_pad, inclination=inclination, declination=declination\n",
        ")\n",
        "\n",
        "# Unpad the reduced to the pole grid\n",
        "rtp_grid = xrft.unpad(rtp_grid, pad_width)\n",
        "rtp_grid"
      ],
      "metadata": {
        "id": "Zc65vhWFfyjQ"
      },
      "execution_count": null,
      "outputs": []
    },
    {
      "cell_type": "markdown",
      "source": [
        "Data yang sudah ditransformasikan ke kutub dalam sistem koordinat kartesian kita proyeksikan kembali kedalam sistem koordinat geografis."
      ],
      "metadata": {
        "id": "PmzhFhqvuPlZ"
      }
    },
    {
      "cell_type": "code",
      "source": [
        "rtp_grid.rio.write_crs(CRS, inplace=True)\n",
        "rtp_grid.rio.set_spatial_dims(\"easting\", \"northing\", inplace=True)\n",
        "rtp_grid = rtp_grid.rio.reproject('+proj=latlon')\n",
        "rtp_grid"
      ],
      "metadata": {
        "id": "ki8_Aj7emp2-"
      },
      "execution_count": null,
      "outputs": []
    },
    {
      "cell_type": "markdown",
      "source": [
        "Menampilkan peta anomali reduksi ke kutub."
      ],
      "metadata": {
        "id": "XmG3a_D_uaYC"
      }
    },
    {
      "cell_type": "code",
      "source": [
        "fig = pygmt.Figure()\n",
        "pygmt.makecpt(cmap=\"seis+h\", reverse=True, series=[rtp_grid.min().values, rtp_grid.max().values], background=True)\n",
        "fig.basemap(projection='M20', region=[lon_min, lon_max, lat_min, lat_max], frame=True)\n",
        "fig.grdimage(grid=rtp_grid, cmap=True)\n",
        "fig.coast(resolution='f', shorelines='2p,black,solid')\n",
        "fig.grdcontour(grid=rtp_grid, interval=100, annotation=100)\n",
        "\n",
        "# Add colorbar\n",
        "fig.colorbar(frame='af+l\"Peta Anomali Reduksi ke Kutub (nT)\"', position=\"JBC+h+o0/1c+e\")\n",
        "fig.show()"
      ],
      "metadata": {
        "id": "jSDfXDNOma-L"
      },
      "execution_count": null,
      "outputs": []
    },
    {
      "cell_type": "markdown",
      "source": [
        "**2. Penentuan Anomali Regional**\n",
        "\n",
        "Untuk mendapatkan anomali residual, kita buat dahulu model anomali regionalnya. Disini kita akan menggunakan polinomial orde 2."
      ],
      "metadata": {
        "id": "9CUaTPwgugGI"
      }
    },
    {
      "cell_type": "code",
      "source": [
        "xv, yv = np.meshgrid(rtp_grid.x, rtp_grid.y, indexing='ij')\n",
        "coordinates = (xv, yv)\n",
        "trend = vd.Trend(degree=2).fit(coordinates, rtp_grid.values)\n",
        "\n",
        "regional = rtp_grid.copy()\n",
        "regional = regional.rename('regional')\n",
        "regional.values = trend.predict(coordinates)\n",
        "regional"
      ],
      "metadata": {
        "id": "6SzqNDdfu5l8"
      },
      "execution_count": null,
      "outputs": []
    },
    {
      "cell_type": "code",
      "source": [
        "fig = pygmt.Figure()\n",
        "pygmt.makecpt(cmap=\"seis+h\", reverse=True, series=[regional.min().values, regional.max().values], background=True)\n",
        "fig.basemap(projection='M20', region=[lon_min, lon_max, lat_min, lat_max], frame=True)\n",
        "fig.grdimage(grid=regional, cmap=True)\n",
        "fig.coast(resolution='f', shorelines='2p,black,solid')\n",
        "fig.grdcontour(grid=regional, interval=20, annotation=20)\n",
        "\n",
        "# Add colorbar\n",
        "fig.colorbar(frame='af+l\"Peta Anomali Medan Magnet Regional (nT)\"', position=\"JBC+h+o0/1c+e\")\n",
        "fig.show()"
      ],
      "metadata": {
        "id": "8X6v8EpM-pPk"
      },
      "execution_count": null,
      "outputs": []
    },
    {
      "cell_type": "markdown",
      "source": [
        "**3. Pemisahan anomali regional - residual**\n",
        "\n"
      ],
      "metadata": {
        "id": "ScMuPlEpLY4n"
      }
    },
    {
      "cell_type": "code",
      "source": [
        "residual = rtp_grid - regional\n",
        "residual"
      ],
      "metadata": {
        "id": "dnON-emaLlRu"
      },
      "execution_count": null,
      "outputs": []
    },
    {
      "cell_type": "code",
      "source": [
        "fig = pygmt.Figure()\n",
        "pygmt.makecpt(cmap=\"seis+h\", reverse=True, series=[residual.min().values, residual.max().values], background=True)\n",
        "fig.basemap(projection='M20', region=[lon_min, lon_max, lat_min, lat_max], frame=True)\n",
        "fig.grdimage(grid=residual, cmap=True)\n",
        "fig.coast(resolution='f', shorelines='2p,black,solid')\n",
        "fig.grdcontour(grid=residual, interval=100, annotation=100)\n",
        "\n",
        "# Add colorbar\n",
        "fig.colorbar(frame='af+l\"Peta Anomali Medan Magnet Residual (nT)\"', position=\"JBC+h+o0/1c+e\")\n",
        "fig.show()"
      ],
      "metadata": {
        "id": "ShFC51zDLyk0"
      },
      "execution_count": null,
      "outputs": []
    },
    {
      "cell_type": "markdown",
      "source": [
        "**4. First Horizontal Derivative**\n",
        "\n",
        "Untuk mempertajam pola anomali magnetik dari peta anomali residual, diperlukan transformasi atau pengolahan data lanjutan. Proses penajaman anomali bertujuan untuk mendelineasi posisi anomali secara tepat dan juga untuk pemisahan anomali yang saling berdekatan. Salah satu metode transformasi yang dapat digunakan adalah FHD atau First Horizontal Derivative. Filter FHD dapat digunakan untuk menentukan lokasi batas kontak kontras suseptibilitas horizontal dari data magnetik.\n",
        "\n",
        "First Horizontal Derivative (FHD) atau Turunan Mendatar Pertama mempunyai\n",
        "nama lain yaitu Horizontal Gradient. FHD dari anomali magnetik yang disebabkan oleh suatu body cenderung untuk menunjukkan tepian dari body-nya tersebut. Jadi metode FHD dapat digunakan untuk menentukan lokasi\n",
        "batas kontak kontras suseptibilitas horizontal magnetik.\n",
        "\n",
        "Turunan horizontal data medan potensial dapat langsung dihitung karena\n",
        "umumnya data diukur pada titik yang tersebar secara spasial (x, y). Turunan horizontal orde satu arah x dan arah ydapat dihitung melalui pendekatan berikut:\n",
        "\n",
        "![fhd.png](data:image/png;base64,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)"
      ],
      "metadata": {
        "id": "gwiU2o185c7r"
      }
    },
    {
      "cell_type": "markdown",
      "source": [
        "Sebelum melakukan transformasi FHD, data residual kita transformasikan dahulu ke sistem koordinat kartesian karena nilai FHD nantinya satuannya adalah nT/m."
      ],
      "metadata": {
        "id": "yeUSLnKF67sG"
      }
    },
    {
      "cell_type": "code",
      "source": [
        "residual.rio.write_crs('+proj=lonlat', inplace=True)\n",
        "utm_res = residual.rio.reproject(CRS)\n",
        "utm_res = utm_res.rename({'x':'easting', 'y':'northing'})\n",
        "utm_res"
      ],
      "metadata": {
        "id": "IzdKoQacz6Vf"
      },
      "execution_count": null,
      "outputs": []
    },
    {
      "cell_type": "markdown",
      "source": [
        "Setelah data ditransformasikan ke sistem koordinat kartesian, kita bisa menghitung nilai turunan orde pertama secara horizontal ke arah sumbu X dan sumbu Y."
      ],
      "metadata": {
        "id": "DFkVVppV7NUe"
      }
    },
    {
      "cell_type": "code",
      "source": [
        "dx = hm.derivative_easting(utm_res, order=1)\n",
        "dy = hm.derivative_northing(utm_res, order=1)\n",
        "\n",
        "FHD = (dx**2 + dy**2)**0.5"
      ],
      "metadata": {
        "id": "A-yRpjnixL2z"
      },
      "execution_count": 20,
      "outputs": []
    },
    {
      "cell_type": "markdown",
      "source": [
        "Setelah didapatkan nilai FHD, data kita transformasikan kembali ke sistem koordinat geografis untuk dipetakan."
      ],
      "metadata": {
        "id": "nU9V-gvw7fby"
      }
    },
    {
      "cell_type": "code",
      "source": [
        "FHD.rio.write_crs(CRS, inplace=True)\n",
        "FHD.rio.set_spatial_dims(\"easting\", \"northing\", inplace=True)\n",
        "FHD = FHD.rio.reproject('+proj=latlon')\n",
        "FHD"
      ],
      "metadata": {
        "id": "-47_IKSM1UYz"
      },
      "execution_count": null,
      "outputs": []
    },
    {
      "cell_type": "markdown",
      "source": [
        "Kita petakan nilai FHD."
      ],
      "metadata": {
        "id": "TuYl61347lmH"
      }
    },
    {
      "cell_type": "code",
      "source": [
        "fig = pygmt.Figure()\n",
        "pygmt.makecpt(cmap=\"seis+h\", reverse=True, series=[FHD.min().values, FHD.max().values], background=True)\n",
        "fig.basemap(projection='M20', region=[lon_min, lon_max, lat_min, lat_max], frame=True)\n",
        "fig.grdimage(grid=FHD, cmap=True)\n",
        "fig.coast(resolution='f', shorelines='2p,black,solid')\n",
        "fig.grdcontour(grid=FHD, interval=0.01, annotation=0.01)\n",
        "\n",
        "# Add colorbar\n",
        "fig.colorbar(frame='af+l\"Peta First Horizontal Derivative (nT/m)\"', position=\"JBC+h+o0/1c+e\")\n",
        "fig.show()"
      ],
      "metadata": {
        "id": "WlX1maV7yL-i"
      },
      "execution_count": null,
      "outputs": []
    },
    {
      "cell_type": "markdown",
      "source": [
        "**5. Second Vertical Derivative**\n",
        "\n",
        "Selain FHD, metode SVD atau Second Vertical Derivative juga dapat digunakan untuk mendelineasi sumber anomali dan dapat memperjelas pola anomali dari data medan potensial. Second Vertical Derivative (SVD)\n",
        "dilakukan untuk memunculkan efek dangkal dari pengaruh regionalnya dan\n",
        "untuk menentukan batas-batas struktur yang ada di daerah penelitian, sehingga filter ini dapat menyelesaikan anomali residual yang tidak mampu dipisahkan dengan metode pemisahan regional-residual yang ada. Secara teoritis, metode ini diturunkan dari persamaan Laplace’s:\n",
        "\n",
        "![svd.png](data:image/png;base64,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)"
      ],
      "metadata": {
        "id": "EbDSxQHk7qhg"
      }
    },
    {
      "cell_type": "markdown",
      "source": [
        "Berdasarkan persamaan diatas, dapat diketahui bahwa nilai SVD dari suatu anomali magnetik permukaan adalah sama dengan negatif dari derivative orde dua horizontalnya. SVD bersifat sebagai highpass filter, sehingga dapat menggambarkan anomali residual yang berasosiasi dengan struktur dangkal."
      ],
      "metadata": {
        "id": "do0tYrkQ8N3c"
      }
    },
    {
      "cell_type": "code",
      "source": [
        "dx2 = hm.derivative_easting(utm_res, order=2)\n",
        "dy2 = hm.derivative_northing(utm_res, order=2)\n",
        "\n",
        "SVD = -(dx2 + dy2)"
      ],
      "metadata": {
        "id": "iyx6p6RH3oLl"
      },
      "execution_count": 23,
      "outputs": []
    },
    {
      "cell_type": "markdown",
      "source": [
        "Data SVD yang sudah dalam sistem koordinat kartesian kita konversikan ke sistem koordinat geografis untuk kemudian dipetakan."
      ],
      "metadata": {
        "id": "XnimqkaS8nsx"
      }
    },
    {
      "cell_type": "code",
      "source": [
        "SVD.rio.write_crs(CRS, inplace=True)\n",
        "SVD.rio.set_spatial_dims(\"easting\", \"northing\", inplace=True)\n",
        "SVD = SVD.rio.reproject('+proj=latlon')\n",
        "SVD"
      ],
      "metadata": {
        "id": "-6Epwvpj4H3S"
      },
      "execution_count": null,
      "outputs": []
    },
    {
      "cell_type": "markdown",
      "source": [
        "Kita tampilkan peta SVD."
      ],
      "metadata": {
        "id": "zS0uLXPQ8wZp"
      }
    },
    {
      "cell_type": "code",
      "source": [
        "fig = pygmt.Figure()\n",
        "pygmt.makecpt(cmap=\"seis+h\", reverse=True, series=[SVD.min().values, SVD.max().values], background=True)\n",
        "fig.basemap(projection='M20', region=[lon_min, lon_max, lat_min, lat_max], frame=True)\n",
        "fig.grdimage(grid=SVD, cmap=True)\n",
        "fig.coast(resolution='f', shorelines='2p,black,solid')\n",
        "fig.grdcontour(grid=SVD, interval=0.001, annotation=0.001)\n",
        "\n",
        "# Add colorbar\n",
        "fig.colorbar(frame='af+l\"Peta Second Vertical Derivative (nT/m@+2@+)\"', position=\"JBC+h+o0/1c+e\")\n",
        "fig.show()"
      ],
      "metadata": {
        "id": "O8XaxnFu4R7w"
      },
      "execution_count": null,
      "outputs": []
    },
    {
      "cell_type": "markdown",
      "source": [
        "**Referensi**\n",
        "\n",
        "\n",
        "\n",
        "> Arifin, Y. I. (2019). Kemagnetan Batuan (Anisotropi Batuan Beku). UNG Press Gorontalo.\n",
        "\n",
        "> Constable, C.G., and Constable, S.C., (2004). Satellite magnetic field measurements: applications in studying the deep earth. In Sparks, R.S.J., and Hawkesworth, C.J., (eds.), The State of the Planet: Frontiers and Challenges in Geophysics. Washington, DC: American Geophysical Union, doi: 10.1029/150GM13, pp. 147–160.\n",
        "\n",
        "> Fenoglio, M. A., Johnston, M.J.S., dan Byerlee, J.D. (1995). Magnetic and Electric Fields Associated with Changes in High Pore Pressure in Fault Zone-Application to the Loma Prieta ULF Emissions, J. Geophys. Res. 100, pp 12951-12958.\n",
        "\n",
        "> Freund, F.T. (2007). Pre-Earthquake Signals-Part I: Deviatoric Stresses Turn Rocks into A Source of Electric Currents, Natural Hazards Earth System Science, pp 535-541.\n",
        "\n",
        "> Hattori, K. (2004). ULF geomagnetic changes associated with large earthquakes, Terr. Atmos. OceanSci., vol. 15,no. 3, pp. 329–360.\n",
        "\n",
        "> Ismaguilov, V. S., Kopytenko, Yu. A., Hattori, K., and Hayakawa, M. (2003). Variations of phase velocity and gradient values of ULF geomagnetic disturbances connected with the Izu strong earthquakes, Nat. Hazards Earth Syst. Sci., 3, 211–215, https://doi.org/10.5194/nhess-3-211-2003.\n",
        "\n",
        "> Kolhatkar, A., Jamison, A., Litvinov, D., Willson, R., & Lee, T. (2013). Tuning the Magnetic Properties of Nanoparticles. International Journal of Molecular Sciences, 14(8), 15977–16009. MDPI AG. Retrieved from http://dx.doi.org/10.3390/ijms14081597\n",
        "\n",
        "> Kopytenko, Y. & Ismagilov, V. & Hayakawa, Masashi & Smirnova, N. & Troyan, V. & Peterson, T.. (2001). Investigation of the ULF electromagnetic phenomena related to earthquakes: Contemporary achievements and the perspectives. Annali di Geofisica. 44. 325-334.\n",
        "\n",
        "> Merzer, M., dan Klemperer, S.L. (1997). Modelling Low-Frequency Magnetik Field Prekursors to the Loma Prieta Earthquake with A Prekursory Increase in Fault Zone Conductivity, Pure Applied Geophysics, Vol. 150, pp 217-248.\n",
        "\n",
        "> Molchanov, O.A., dan Hayakawa, M. (1998). On the Generation Mechanism of ULF Seismogenic Emissions, Physics Earth Planet International, Vol. 105, pp 210-210.\n",
        "\n",
        "> Nettleton, L. L. (1962). Gravity and Magnetics for Geologists and Seismologists. AAPG Bulletin, Vol. 46, No. 10, pp. 1815-1838\n",
        "\n",
        "> Ravat, D. (2007). Reduction to Pole. In: Gubbins, D., Herrero-Bervera, E. (eds) Encyclopedia of Geomagnetism and Paleomagnetism. Springer, Dordrecht. https://doi.org/10.1007/978-1-4020-4423-6_275\n",
        "\n",
        "> Santosa, Bagus J., Mashuri, Sutrisno, Wahyu T., Wafi, A., Salim, R., dan Armi, R. (2012). Interpretasi Metode Magnetik untuk Penentuan Struktur Bawah Permukaan di Sekitar Gunung Kelud Kabupaten Kediri. Jurnal Penelitian Fisika dan Aplikasinya (JPFA), Vol. 2 No. 1, Juni 2012. ISSN: 2087-9946.\n",
        "\n",
        "> Uieda, L., V. C. Oliveira Jr, and V. C. F. Barbosa (2013), Modeling the Earth with Fatiando a Terra, Proceedings of the 12th Python in Science Conference, pp. 91-98. doi:10.25080/Majora-8b375195-010\n",
        "\n",
        "> Uieda, L., Tian, D., Leong, W. J., Schlitzer, W., Grund, M., Jones, M., Fröhlich, Y., Toney, L., Yao, J., Magen, Y., Tong, JH., Materna, K., Belem, A., Newton, T., Anant, A., Ziebarth, M., Quinn, J., and Wessel, P. (2023). PyGMT: A Python interface for the Generic Mapping Tools (Version 0.9.0). doi:10.5281/zenodo.7772533"
      ],
      "metadata": {
        "id": "gM_UQjV8NJET"
      }
    }
  ]
}